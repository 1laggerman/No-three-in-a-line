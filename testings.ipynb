{
 "cells": [
  {
   "cell_type": "code",
   "execution_count": 1,
   "metadata": {},
   "outputs": [],
   "source": [
    "class Point:\n",
    "    x = 0\n",
    "    y = 0\n",
    "    z = 0\n",
    "\n",
    "    def __init__(self, x: int = 0, y: int = 0, z: int = 0):\n",
    "        self.x = x\n",
    "        self.y = y\n",
    "        self.z = z\n",
    "    \n",
    "    def __str__(self) -> str:\n",
    "        return f\"({self.x}, {self.y}, {self.z})\"\n",
    "        \n",
    "    def __add__(self, __other: \"Point\"):\n",
    "        return Point(self.x + __other.x, self.y + __other.y, self.z + __other.z)\n",
    "    \n",
    "    def __eq__(self, __value: \"Point\") -> bool:\n",
    "        if self.x == __value.x and self.y == __value.y and self.z == __value.z:\n",
    "            return True\n",
    "        return False\n",
    "    \n",
    "    def __hash__(self) -> int:\n",
    "        return self.x + (self.y * self.n) + (self.z * pow(self.n, 2))\n",
    "    \n",
    "    def onTheSameLine(self, point2: \"Point\", point3: \"Point\"):\n",
    "        \n",
    "        if self == point2 or self == point3 or point2 == point3:\n",
    "            return True\n",
    "        \n",
    "        dx2 = self.x - point2.x\n",
    "        dx3 = self.x - point3.x\n",
    "        dy2 = self.y - point2.y\n",
    "        dy3 = self.y - point3.y\n",
    "        \n",
    "        if dx2 == 0 and dx3 == 0:\n",
    "            # dx1 = 0, dx2 = 0\n",
    "            if dy2 == 0 and dy3 == 0:\n",
    "                return True\n",
    "            elif dy2 == 0 or dy3 == 0:\n",
    "                return False\n",
    "            Myz2 = (self.z - point2.z) / dy2\n",
    "            Myz3 = (self.z - point3.z) / dy3\n",
    "            if Myz2 != Myz3:\n",
    "                return False\n",
    "            return True\n",
    "        elif dx2 == 0 or dx3 == 0:\n",
    "            return False\n",
    "\n",
    "        Mxy2 = dy2 / dx2\n",
    "        Mxy3 = dy3 / dx3\n",
    "        if Mxy2 != Mxy3:\n",
    "            return False\n",
    "        Mxz2 = (self.z - point2.z) / dx2\n",
    "        Mxz3 = (self.z - point3.z) / dx3\n",
    "        if Mxz2 != Mxz3:\n",
    "            return False\n",
    "        return True"
   ]
  },
  {
   "cell_type": "code",
   "execution_count": 2,
   "metadata": {},
   "outputs": [
    {
     "name": "stdout",
     "output_type": "stream",
     "text": [
      "(1, 0, 0)\n",
      "(1, 1, 0)\n",
      "(1, 2, 0)\n",
      "(2, 0, 0)\n",
      "(2, 1, 0)\n",
      "(2, 2, 0)\n"
     ]
    }
   ],
   "source": [
    "valid1 = list([Point(0, 0), Point(0, 1), Point(0, 2), Point(1, 0), Point(1, 1), Point(1, 2), Point(2, 0), Point(2, 1), Point(2, 2)])\n",
    "l = list([valid1[0], valid1[1]])\n",
    "for i in range(3):\n",
    "        valid1.remove(Point(l[0].x, i))\n",
    "\n",
    "for point in valid1:\n",
    "    print(point)"
   ]
  }
 ],
 "metadata": {
  "kernelspec": {
   "display_name": "Python 3",
   "language": "python",
   "name": "python3"
  },
  "language_info": {
   "codemirror_mode": {
    "name": "ipython",
    "version": 3
   },
   "file_extension": ".py",
   "mimetype": "text/x-python",
   "name": "python",
   "nbconvert_exporter": "python",
   "pygments_lexer": "ipython3",
   "version": "3.11.6"
  }
 },
 "nbformat": 4,
 "nbformat_minor": 2
}
